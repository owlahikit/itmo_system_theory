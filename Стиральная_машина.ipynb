{
  "nbformat": 4,
  "nbformat_minor": 0,
  "metadata": {
    "colab": {
      "provenance": []
    },
    "kernelspec": {
      "name": "python3",
      "display_name": "Python 3"
    },
    "language_info": {
      "name": "python"
    }
  },
  "cells": [
    {
      "cell_type": "code",
      "execution_count": null,
      "metadata": {
        "colab": {
          "base_uri": "https://localhost:8080/"
        },
        "id": "jNDUAePeqZx8",
        "outputId": "68a0fcc3-916d-4f3e-dfd5-6f6f40dd2093"
      },
      "outputs": [
        {
          "output_type": "stream",
          "name": "stdout",
          "text": [
            "Requirement already satisfied: transitions in /usr/local/lib/python3.10/dist-packages (0.9.0)\n",
            "Requirement already satisfied: six in /usr/local/lib/python3.10/dist-packages (from transitions) (1.16.0)\n",
            "Начинаем стирку...\n",
            "Заливаем воду...\n",
            "Стирка...\n",
            "Ошибка таймера! Машина переходит в состояние 'defective'\n",
            "Требуется ремонт\n",
            "idle\n"
          ]
        }
      ],
      "source": [
        "!pip install transitions\n",
        "from transitions import Machine\n",
        "import time\n",
        "import random  # Импортируем для имитации возможной ошибки\n",
        "\n",
        "\n",
        "class WashingMachine(object):\n",
        "   pass\n",
        "\n",
        "machine = WashingMachine()\n",
        "\n",
        "# Определение состояний\n",
        "states = ['idle', 'filling', 'washing', 'draining', 'defective']\n",
        "\n",
        "# Определение переходов\n",
        "transitions = [\n",
        "    {'trigger': 'start', 'source': 'idle', 'dest': 'filling'},\n",
        "    {'trigger': 'level_reached', 'source': 'filling', 'dest': 'washing'},\n",
        "    {'trigger': 'timer_done', 'source': 'washing', 'dest': 'draining'},\n",
        "    {'trigger': 'timer_failed', 'source': 'washing', 'dest': 'defective'},\n",
        "    {'trigger': 'level_drained', 'source': 'draining', 'dest': 'idle'},\n",
        "    {'trigger': 'reset', 'source': 'defective', 'dest': 'idle'},\n",
        "]\n",
        "\n",
        "washing_machine = Machine(machine, states=states, transitions=transitions, initial='idle')\n",
        "\n",
        "# Имитация залива воды (d1)\n",
        "def fill_water():\n",
        "    print(\"Заливаем воду...\")\n",
        "    machine.level_reached()\n",
        "\n",
        "def wash():\n",
        "    print(\"Стирка...\")\n",
        "    # Имитация  таймера\n",
        "    if random.random() < 0.5:\n",
        "            print(\"Ошибка таймера! Машина переходит в состояние 'defective'\")\n",
        "            machine.timer_failed()\n",
        "    else:\n",
        "            print(\"Таймер успешно завершил работу.\")\n",
        "            machine.timer_done()\n",
        "\n",
        "# Имитация слива воды (d2)\n",
        "def drain_water():\n",
        "    print(\"Сливаем воду...\")\n",
        "    machine.level_drained()\n",
        "\n",
        "def simulate_washing():\n",
        "  print(\"Начинаем стирку...\")\n",
        "  machine.start()  # Переход в состояние 'filling'\n",
        "  fill_water()  # Переход в состояние 'washing'\n",
        "  wash()  # Переход в состояние 'draining' или 'defective'\n",
        "  if machine.state != 'defective':\n",
        "      drain_water()\n",
        "  else:\n",
        "      print(\"Требуется ремонт\")\n",
        "      machine.reset()\n",
        "      print(machine.state)\n",
        "\n",
        "\n",
        "simulate_washing()"
      ]
    },
    {
      "cell_type": "code",
      "source": [],
      "metadata": {
        "id": "UOqB9_EM9TpQ"
      },
      "execution_count": null,
      "outputs": []
    },
    {
      "cell_type": "code",
      "source": [
        "machine.state"
      ],
      "metadata": {
        "id": "UUPvxHuh7fkU",
        "colab": {
          "base_uri": "https://localhost:8080/",
          "height": 35
        },
        "outputId": "780b9792-d035-4b90-e0cc-f3c7b6e096ba"
      },
      "execution_count": null,
      "outputs": [
        {
          "output_type": "execute_result",
          "data": {
            "text/plain": [
              "'idle'"
            ],
            "application/vnd.google.colaboratory.intrinsic+json": {
              "type": "string"
            }
          },
          "metadata": {},
          "execution_count": 54
        }
      ]
    },
    {
      "cell_type": "code",
      "source": [
        "machine.start()\n",
        "machine.state\n"
      ],
      "metadata": {
        "id": "CZ76SW4a7B_K",
        "colab": {
          "base_uri": "https://localhost:8080/",
          "height": 35
        },
        "outputId": "21636745-2685-41b0-f1f9-9bccb0c0663f"
      },
      "execution_count": null,
      "outputs": [
        {
          "output_type": "execute_result",
          "data": {
            "text/plain": [
              "'filling'"
            ],
            "application/vnd.google.colaboratory.intrinsic+json": {
              "type": "string"
            }
          },
          "metadata": {},
          "execution_count": 55
        }
      ]
    },
    {
      "cell_type": "code",
      "source": [
        "fill_water()\n",
        "machine.state\n"
      ],
      "metadata": {
        "id": "I6k8e5SX7bsS",
        "colab": {
          "base_uri": "https://localhost:8080/",
          "height": 53
        },
        "outputId": "14dae7b3-dd16-4125-a4ad-77d2f6665558"
      },
      "execution_count": null,
      "outputs": [
        {
          "output_type": "stream",
          "name": "stdout",
          "text": [
            "Заливаем воду...\n"
          ]
        },
        {
          "output_type": "execute_result",
          "data": {
            "text/plain": [
              "'washing'"
            ],
            "application/vnd.google.colaboratory.intrinsic+json": {
              "type": "string"
            }
          },
          "metadata": {},
          "execution_count": 56
        }
      ]
    },
    {
      "cell_type": "code",
      "source": [
        "wash()\n",
        "machine.state\n"
      ],
      "metadata": {
        "id": "L3RThTPe7j1Z",
        "colab": {
          "base_uri": "https://localhost:8080/",
          "height": 71
        },
        "outputId": "0d3da3c2-01c7-42c6-ae95-5a6abb0a09f5"
      },
      "execution_count": null,
      "outputs": [
        {
          "output_type": "stream",
          "name": "stdout",
          "text": [
            "Стирка...\n",
            "Таймер успешно завершил работу.\n"
          ]
        },
        {
          "output_type": "execute_result",
          "data": {
            "text/plain": [
              "'draining'"
            ],
            "application/vnd.google.colaboratory.intrinsic+json": {
              "type": "string"
            }
          },
          "metadata": {},
          "execution_count": 57
        }
      ]
    },
    {
      "cell_type": "code",
      "source": [
        "if machine.state != 'defective':\n",
        "      drain_water()\n",
        "else:\n",
        "      print(\"Ремонт\")\n",
        "      machine.reset()\n",
        "machine.state"
      ],
      "metadata": {
        "id": "GQtHOwTJ7yM4",
        "colab": {
          "base_uri": "https://localhost:8080/",
          "height": 53
        },
        "outputId": "2de0d503-e451-4957-e70f-0a2ac9e4fae1"
      },
      "execution_count": null,
      "outputs": [
        {
          "output_type": "stream",
          "name": "stdout",
          "text": [
            "Сливаем воду...\n"
          ]
        },
        {
          "output_type": "execute_result",
          "data": {
            "text/plain": [
              "'idle'"
            ],
            "application/vnd.google.colaboratory.intrinsic+json": {
              "type": "string"
            }
          },
          "metadata": {},
          "execution_count": 58
        }
      ]
    },
    {
      "cell_type": "code",
      "source": [
        "!pip install graphviz\n",
        "from graphviz import Digraph\n",
        "from IPython.display import Image\n",
        "\n",
        "# Создание объекта для графа\n",
        "dot = Digraph(comment='Система управления стиральной машиной')\n",
        "\n",
        "# Определение состояний\n",
        "states = ['idle', 'filling', 'washing', 'draining', 'defective']\n",
        "\n",
        "# Добавление состояний в граф\n",
        "for state in states:\n",
        "    dot.node(state, state)\n",
        "\n",
        "# Определение переходов\n",
        "transitions = [\n",
        "    {'trigger': 'start', 'source': 'idle', 'dest': 'filling'},\n",
        "    {'trigger': 'level_reached', 'source': 'filling', 'dest': 'washing'},\n",
        "    {'trigger': 'timer_done', 'source': 'washing', 'dest': 'draining'},\n",
        "    {'trigger': 'timer_failed', 'source': 'washing', 'dest': 'defective'},\n",
        "    {'trigger': 'level_drained', 'source': 'draining', 'dest': 'idle'},\n",
        "    {'trigger': 'reset', 'source': 'defective', 'dest': 'idle'},\n",
        "]\n",
        "\n",
        "# Добавление переходов в граф\n",
        "for transition in transitions:\n",
        "    dot.edge(transition['source'], transition['dest'], label=transition['trigger'])\n",
        "\n",
        "# Рендеринг графа в файл формата PNG\n",
        "graph = dot.render('state_graph', format='png', engine='dot', view=True)\n",
        "Image(graph)"
      ],
      "metadata": {
        "colab": {
          "base_uri": "https://localhost:8080/",
          "height": 442
        },
        "id": "3ppeMPyx9VBn",
        "outputId": "6b7d1900-edb3-41c2-f930-d612953bcd6b"
      },
      "execution_count": null,
      "outputs": [
        {
          "output_type": "stream",
          "name": "stdout",
          "text": [
            "Requirement already satisfied: graphviz in /usr/local/lib/python3.10/dist-packages (0.20.3)\n"
          ]
        },
        {
          "output_type": "execute_result",
          "data": {
            "image/png": "[encoded data removed]",
            "text/plain": [
              "<IPython.core.display.Image object>"
            ]
          },
          "metadata": {},
          "execution_count": 62
        }
      ]
    }
  ]
}